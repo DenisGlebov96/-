{
 "cells": [
  {
   "cell_type": "code",
   "execution_count": 15,
   "metadata": {},
   "outputs": [
    {
     "name": "stdout",
     "output_type": "stream",
     "text": [
      "cadsjh jf lk jie zdnfkej 56 4531567 f\n",
      "4\n",
      "j\n"
     ]
    }
   ],
   "source": [
    "s = input()\n",
    "ss = s.lower()\n",
    "cnt = 0\n",
    "max = 0\n",
    "x = ''\n",
    "import string\n",
    "for i in string.ascii_lowercase: #abcdefghijklmnopqrstuvwxwz\n",
    "    cnt = ss.count(i)\n",
    "    if cnt > max:\n",
    "        max = cnt\n",
    "        x = i\n",
    "print(max)\n",
    "print(x)"
   ]
  },
  {
   "cell_type": "code",
   "execution_count": 26,
   "metadata": {},
   "outputs": [
    {
     "name": "stdout",
     "output_type": "stream",
     "text": [
      "as 5 as as 5 as 5\n",
      "no\n"
     ]
    }
   ],
   "source": [
    "s = input()\n",
    "cnt = 0\n",
    "for i in range(1,len(s)):\n",
    "    if s[i] == ' ':\n",
    "        if s[i-1].isalpha() & s[i+1].isalpha():\n",
    "            cnt += 1\n",
    "            if cnt == 2:\n",
    "                print('yes')\n",
    "                break\n",
    "        else:\n",
    "            cnt = 0\n",
    "else:\n",
    "    print('no')"
   ]
  },
  {
   "cell_type": "code",
   "execution_count": 27,
   "metadata": {},
   "outputs": [
    {
     "name": "stdout",
     "output_type": "stream",
     "text": [
      "aaabbcccc\n",
      "4\n"
     ]
    }
   ],
   "source": [
    "s = input()\n",
    "cnt = 0\n",
    "for i in range(1,len(s)):\n",
    "    if s[i] == s[i-1]:\n",
    "        cnt += 1\n",
    "    else:\n",
    "        cnt = 1\n",
    "print(cnt)"
   ]
  },
  {
   "cell_type": "code",
   "execution_count": 33,
   "metadata": {},
   "outputs": [
    {
     "name": "stdout",
     "output_type": "stream",
     "text": [
      "HELL nO\n",
      "HELLO\n"
     ]
    }
   ],
   "source": [
    "s = input()\n",
    "x = ''\n",
    "for i in range(0,len(s)):\n",
    "    if s[i].isupper():\n",
    "        x += s[i]\n",
    "print(x)"
   ]
  },
  {
   "cell_type": "code",
   "execution_count": 29,
   "metadata": {},
   "outputs": [
    {
     "ename": "TypeError",
     "evalue": "len() takes exactly one argument (0 given)",
     "output_type": "error",
     "traceback": [
      "\u001b[1;31m---------------------------------------------------------------------------\u001b[0m",
      "\u001b[1;31mTypeError\u001b[0m                                 Traceback (most recent call last)",
      "\u001b[1;32m<ipython-input-29-7dbcecdd2c56>\u001b[0m in \u001b[0;36m<module>\u001b[1;34m\u001b[0m\n\u001b[0;32m      1\u001b[0m \u001b[0mA\u001b[0m \u001b[1;33m=\u001b[0m \u001b[1;33m[\u001b[0m\u001b[1;36m1234123121\u001b[0m\u001b[1;33m]\u001b[0m\u001b[1;33m\u001b[0m\u001b[1;33m\u001b[0m\u001b[0m\n\u001b[1;32m----> 2\u001b[1;33m \u001b[0mB\u001b[0m \u001b[1;33m=\u001b[0m \u001b[0msorted\u001b[0m\u001b[1;33m(\u001b[0m\u001b[0mA\u001b[0m\u001b[1;33m,\u001b[0m\u001b[0mkey\u001b[0m\u001b[1;33m=\u001b[0m\u001b[0mlen\u001b[0m\u001b[1;33m(\u001b[0m\u001b[1;33m)\u001b[0m\u001b[1;33m)\u001b[0m\u001b[1;33m\u001b[0m\u001b[1;33m\u001b[0m\u001b[0m\n\u001b[0m\u001b[0;32m      3\u001b[0m \u001b[0mprint\u001b[0m\u001b[1;33m(\u001b[0m\u001b[0mB\u001b[0m\u001b[1;33m)\u001b[0m\u001b[1;33m\u001b[0m\u001b[1;33m\u001b[0m\u001b[0m\n\u001b[0;32m      4\u001b[0m \u001b[1;31m# разобраться\u001b[0m\u001b[1;33m\u001b[0m\u001b[1;33m\u001b[0m\u001b[1;33m\u001b[0m\u001b[0m\n",
      "\u001b[1;31mTypeError\u001b[0m: len() takes exactly one argument (0 given)"
     ]
    }
   ],
   "source": [
    "A = [1234123121]\n",
    "B = sorted(A,key=len())\n",
    "print(B) \n",
    "# разобраться"
   ]
  },
  {
   "cell_type": "code",
   "execution_count": 27,
   "metadata": {},
   "outputs": [
    {
     "name": "stdout",
     "output_type": "stream",
     "text": [
      "7\n",
      "8\n"
     ]
    }
   ],
   "source": [
    "a = [5,3,1,8,9]\n",
    "x = int(input())#Число, с которым сравниваем\n",
    "b = sorted(a)\n",
    "for i in range(1,len(b)):\n",
    "    if (abs(x-b[i-1]) <= abs(x-b[i])) & (b[i-1] < x < b[i]):\n",
    "        print(b[i-1])\n",
    "    elif b[i-1] < x < b[i]:\n",
    "        print(b[i])"
   ]
  }
 ],
 "metadata": {
  "kernelspec": {
   "display_name": "Python 3",
   "language": "python",
   "name": "python3"
  },
  "language_info": {
   "codemirror_mode": {
    "name": "ipython",
    "version": 3
   },
   "file_extension": ".py",
   "mimetype": "text/x-python",
   "name": "python",
   "nbconvert_exporter": "python",
   "pygments_lexer": "ipython3",
   "version": "3.8.3"
  }
 },
 "nbformat": 4,
 "nbformat_minor": 4
}
